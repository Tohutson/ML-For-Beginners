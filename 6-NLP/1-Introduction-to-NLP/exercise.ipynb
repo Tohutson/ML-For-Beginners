{
 "cells": [
  {
   "cell_type": "code",
   "execution_count": 4,
   "metadata": {},
   "outputs": [
    {
     "name": "stdout",
     "output_type": "stream",
     "text": [
      "Type 'exit' to quit the program.\n",
      "System: How was your day today?\n",
      "User: good\n",
      "System: Why do you say that?\n",
      "User: It was really close\n",
      "System: Funny weather we've been having, isn't it?\n",
      "User: Yeah, warm and cold\n",
      "System: Did you catch the game last night?\n",
      "User: SHut up\n",
      "System: Did you catch the game last night?\n",
      "User: Shut up\n",
      "System: Did you catch the game last night?\n",
      "User: shut up\n",
      "System: Did you catch the game last night?\n",
      "User: shut up\n",
      "System: Let's change the subject.\n"
     ]
    }
   ],
   "source": [
    "import random\n",
    "\n",
    "quit = False\n",
    "random_responses = [\"That is quite interesting, please tell me more.\",\n",
    "                    \"I see. Do go on.\",\n",
    "                    \"Why do you say that?\",\n",
    "                    \"Funny weather we've been having, isn't it?\",\n",
    "                    \"Let's change the subject.\",\n",
    "                    \"Did you catch the game last night?\"]\n",
    "print(\"Type 'exit' to quit the program.\")\n",
    "print(\"System: How was your day today?\")\n",
    "while not quit:\n",
    "    answer = input()\n",
    "    if answer == 'exit':\n",
    "        quit = True\n",
    "    else:\n",
    "        print(\"User: \" + answer)\n",
    "        print(\"System: \" + random_responses[random.randint(0,5)])"
   ]
  },
  {
   "cell_type": "code",
   "execution_count": null,
   "metadata": {},
   "outputs": [],
   "source": []
  }
 ],
 "metadata": {
  "kernelspec": {
   "display_name": ".venv",
   "language": "python",
   "name": "python3"
  },
  "language_info": {
   "codemirror_mode": {
    "name": "ipython",
    "version": 3
   },
   "file_extension": ".py",
   "mimetype": "text/x-python",
   "name": "python",
   "nbconvert_exporter": "python",
   "pygments_lexer": "ipython3",
   "version": "3.11.5"
  },
  "orig_nbformat": 4
 },
 "nbformat": 4,
 "nbformat_minor": 2
}
