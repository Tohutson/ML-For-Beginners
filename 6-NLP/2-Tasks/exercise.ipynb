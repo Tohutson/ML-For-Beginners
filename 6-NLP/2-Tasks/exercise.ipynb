{
 "cells": [
  {
   "cell_type": "code",
   "execution_count": 14,
   "metadata": {},
   "outputs": [
    {
     "name": "stdout",
     "output_type": "stream",
     "text": [
      "Type 'exit' to quit the program.\n",
      "\n",
      "\n",
      "Hello, I am Marvin, the friendly robot.\n",
      "System: How was your day today?\n",
      "User: I have an old hounddog but he is sick\n",
      "System: Hmm, that's not great. \n",
      "['old hounddog']\n",
      "Tell me more about the old hounddog\n"
     ]
    }
   ],
   "source": [
    "from textblob import TextBlob\n",
    "from textblob.np_extractors import ConllExtractor\n",
    "\n",
    "# Create Conll extractor\n",
    "extractor = ConllExtractor()\n",
    "\n",
    "quit = False\n",
    "print(\"Type 'exit' to quit the program.\\n\\n\")\n",
    "print(\"Hello, I am Marvin, the friendly robot.\")\n",
    "print(\"System: How was your day today?\")\n",
    "answer = input(\"> \")\n",
    "\n",
    "# Create noun phrase extractor\n",
    "user_input_blob = TextBlob(answer, np_extractor=extractor)\n",
    "np = user_input_blob.noun_phrases\n",
    "\n",
    "while not quit:\n",
    "    if answer == 'exit':\n",
    "        quit = True\n",
    "    else:\n",
    "        if user_input_blob.polarity <= -0.5:\n",
    "            response = \"Oh dear, that sounds bad. \"\n",
    "        elif user_input_blob.polarity <= 0:\n",
    "            response = \"Hmm, that's not great. \"\n",
    "        elif user_input_blob.polarity <= 0.5:\n",
    "            response = \"Well, that sounds positive. \"\n",
    "        elif user_input_blob.polarity <= 1:\n",
    "            response = \"Wow, that sounds great. \"\n",
    "        print(\"User: \" + answer)\n",
    "        print(\"System: \" + response)\n",
    "        np = user_input_blob.noun_phrases\n",
    "        if (len(np) > 0):\n",
    "            print(\"Tell me more about the \" + np[0])\n",
    "        answer = input(\"> \")\n",
    "        user_input_blob = TextBlob(answer, np_extractor=extractor)\n",
    "        "
   ]
  },
  {
   "cell_type": "code",
   "execution_count": null,
   "metadata": {},
   "outputs": [],
   "source": []
  }
 ],
 "metadata": {
  "kernelspec": {
   "display_name": ".venv",
   "language": "python",
   "name": "python3"
  },
  "language_info": {
   "codemirror_mode": {
    "name": "ipython",
    "version": 3
   },
   "file_extension": ".py",
   "mimetype": "text/x-python",
   "name": "python",
   "nbconvert_exporter": "python",
   "pygments_lexer": "ipython3",
   "version": "3.11.5"
  },
  "orig_nbformat": 4
 },
 "nbformat": 4,
 "nbformat_minor": 2
}
